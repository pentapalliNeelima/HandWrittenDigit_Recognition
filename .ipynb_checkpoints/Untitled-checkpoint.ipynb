{
 "cells": [
  {
   "cell_type": "code",
   "execution_count": 4,
   "id": "d6747d75",
   "metadata": {},
   "outputs": [
    {
     "ename": "error",
     "evalue": "OpenCV(4.9.0) D:\\a\\opencv-python\\opencv-python\\opencv\\modules\\imgproc\\src\\resize.cpp:4152: error: (-215:Assertion failed) !ssize.empty() in function 'cv::resize'\n",
     "output_type": "error",
     "traceback": [
      "\u001b[1;31m---------------------------------------------------------------------------\u001b[0m",
      "\u001b[1;31merror\u001b[0m                                     Traceback (most recent call last)",
      "Cell \u001b[1;32mIn[4], line 58\u001b[0m\n\u001b[0;32m     55\u001b[0m tmp_canvas \u001b[38;5;241m=\u001b[39m Cartoonizer()\n\u001b[0;32m     57\u001b[0m file_name \u001b[38;5;241m=\u001b[39m \u001b[38;5;124m\"\u001b[39m\u001b[38;5;124mtiger.jpg\u001b[39m\u001b[38;5;124m\"\u001b[39m  \u001b[38;5;66;03m# File_name will come here\u001b[39;00m\n\u001b[1;32m---> 58\u001b[0m res \u001b[38;5;241m=\u001b[39m \u001b[43mtmp_canvas\u001b[49m\u001b[38;5;241;43m.\u001b[39;49m\u001b[43mrender\u001b[49m\u001b[43m(\u001b[49m\u001b[43mfile_name\u001b[49m\u001b[43m)\u001b[49m\n\u001b[0;32m     60\u001b[0m cv2\u001b[38;5;241m.\u001b[39mimwrite(\u001b[38;5;124m\"\u001b[39m\u001b[38;5;124mCartoon_version.jpeg\u001b[39m\u001b[38;5;124m\"\u001b[39m, res)\n\u001b[0;32m     61\u001b[0m cv2\u001b[38;5;241m.\u001b[39mimshow(\u001b[38;5;124m\"\u001b[39m\u001b[38;5;124mCartoon version\u001b[39m\u001b[38;5;124m\"\u001b[39m, res)\n",
      "Cell \u001b[1;32mIn[4], line 14\u001b[0m, in \u001b[0;36mCartoonizer.render\u001b[1;34m(self, img_rgb)\u001b[0m\n\u001b[0;32m     12\u001b[0m \u001b[38;5;28;01mdef\u001b[39;00m \u001b[38;5;21mrender\u001b[39m(\u001b[38;5;28mself\u001b[39m, img_rgb):\n\u001b[0;32m     13\u001b[0m     img_rgb \u001b[38;5;241m=\u001b[39m cv2\u001b[38;5;241m.\u001b[39mimread(img_rgb)\n\u001b[1;32m---> 14\u001b[0m     img_rgb \u001b[38;5;241m=\u001b[39m \u001b[43mcv2\u001b[49m\u001b[38;5;241;43m.\u001b[39;49m\u001b[43mresize\u001b[49m\u001b[43m(\u001b[49m\u001b[43mimg_rgb\u001b[49m\u001b[43m,\u001b[49m\u001b[43m \u001b[49m\u001b[43m(\u001b[49m\u001b[38;5;241;43m1366\u001b[39;49m\u001b[43m,\u001b[49m\u001b[38;5;241;43m768\u001b[39;49m\u001b[43m)\u001b[49m\u001b[43m)\u001b[49m\n\u001b[0;32m     15\u001b[0m     numDownSamples \u001b[38;5;241m=\u001b[39m \u001b[38;5;241m2\u001b[39m  \u001b[38;5;66;03m# number of downscaling steps\u001b[39;00m\n\u001b[0;32m     16\u001b[0m     numBilateralFilters \u001b[38;5;241m=\u001b[39m \u001b[38;5;241m50\u001b[39m  \u001b[38;5;66;03m# number of bilateral filtering steps\u001b[39;00m\n",
      "\u001b[1;31merror\u001b[0m: OpenCV(4.9.0) D:\\a\\opencv-python\\opencv-python\\opencv\\modules\\imgproc\\src\\resize.cpp:4152: error: (-215:Assertion failed) !ssize.empty() in function 'cv::resize'\n"
     ]
    }
   ],
   "source": [
    "import cv2\n",
    "\n",
    "class Cartoonizer:\n",
    "    \"\"\"Cartoonizer effect\n",
    "    A class that applies a cartoon effect to an image.\n",
    "    The class uses a bilateral filter and adaptive thresholding to create\n",
    "    a cartoon effect.\n",
    "    \"\"\"\n",
    "    def __init__(self):\n",
    "        pass\n",
    "\n",
    "    def render(self, img_rgb):\n",
    "        img_rgb = cv2.imread(img_rgb)\n",
    "        img_rgb = cv2.resize(img_rgb, (1366,768))\n",
    "        numDownSamples = 2  # number of downscaling steps\n",
    "        numBilateralFilters = 50  # number of bilateral filtering steps\n",
    "\n",
    "        # -- STEP 1 --\n",
    "        # downsample image using Gaussian pyramid\n",
    "        img_color = img_rgb\n",
    "        for _ in range(numDownSamples):\n",
    "            img_color = cv2.pyrDown(img_color)\n",
    "\n",
    "        # repeatedly apply small bilateral filter instead of applying\n",
    "        # one large filter\n",
    "        for _ in range(numBilateralFilters):\n",
    "            img_color = cv2.bilateralFilter(img_color, 9, 9, 7)\n",
    "\n",
    "        # upsample image to original size\n",
    "        for _ in range(numDownSamples):\n",
    "            img_color = cv2.pyrUp(img_color)\n",
    "\n",
    "        # -- STEPS 2 and 3 --\n",
    "        # convert to grayscale and apply median blur\n",
    "        img_gray = cv2.cvtColor(img_rgb, cv2.COLOR_RGB2GRAY)\n",
    "        img_blur = cv2.medianBlur(img_gray, 3)\n",
    "\n",
    "        # -- STEP 4 --\n",
    "        # detect and enhance edges\n",
    "        img_edge = cv2.adaptiveThreshold(img_blur, 255,\n",
    "                                         cv2.ADAPTIVE_THRESH_MEAN_C,\n",
    "                                         cv2.THRESH_BINARY, 9, 2)\n",
    "\n",
    "        # -- STEP 5 --\n",
    "        # convert back to color so that it can be bit-ANDed with color image\n",
    "        (x, y, z) = img_color.shape\n",
    "        img_edge = cv2.resize(img_edge, (y, x))\n",
    "        img_edge = cv2.cvtColor(img_edge, cv2.COLOR_GRAY2RGB)\n",
    "        cv2.imwrite(\"edge.png\", img_edge)\n",
    "\n",
    "        return cv2.bitwise_and(img_color, img_edge)\n",
    "\n",
    "\n",
    "# Example usage\n",
    "tmp_canvas = Cartoonizer()\n",
    "\n",
    "file_name = \"tiger.jpg\"  # File_name will come here\n",
    "res = tmp_canvas.render(file_name)\n",
    "\n",
    "cv2.imwrite(\"Cartoon_version.jpeg\", res)\n",
    "cv2.imshow(\"Cartoon version\", res)\n",
    "cv2.waitKey(0)\n",
    "cv2.destroyAllWindows()\n"
   ]
  },
  {
   "cell_type": "code",
   "execution_count": null,
   "id": "b514dab9",
   "metadata": {},
   "outputs": [],
   "source": []
  }
 ],
 "metadata": {
  "kernelspec": {
   "display_name": "Python 3 (ipykernel)",
   "language": "python",
   "name": "python3"
  },
  "language_info": {
   "codemirror_mode": {
    "name": "ipython",
    "version": 3
   },
   "file_extension": ".py",
   "mimetype": "text/x-python",
   "name": "python",
   "nbconvert_exporter": "python",
   "pygments_lexer": "ipython3",
   "version": "3.10.9"
  }
 },
 "nbformat": 4,
 "nbformat_minor": 5
}
